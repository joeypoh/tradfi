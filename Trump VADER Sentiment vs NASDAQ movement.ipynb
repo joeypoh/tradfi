{
 "cells": [
  {
   "cell_type": "markdown",
   "metadata": {},
   "source": [
    "<center><h2>Correlation between President Trump's Tweet VADER Sentiment and NASDAQ</h2></center>\n",
    "<hr>\n",
    "\n",
    "### Author\n",
    "\n",
    "Joey Poh (@joeypohie)\n",
    "\n",
    "from class Thu 7.00pm"
   ]
  },
  {
   "cell_type": "markdown",
   "metadata": {},
   "source": [
    "### Executive Summary\n",
    "\n",
    "To investigate how Trump's Tweet VADER sentiment affected NASDAQ, sentiment analysis using VADER was performed on Trump's historical tweets. Visualisation tools were also employed. The VADER compound was plotted against daily NASDAQ movement in a scatter plot. Further analysis was done using clustering. A bar chart was used to find the proportion of data that had a positive correlation between the 2 variables.\n",
    "\n",
    "The hypothesis that the VADER compound Trump's tweets had a clear correlation between daily NASDAQ movement was rejected. This investigation suggests that there may be a positive correlation between the 2 variables, but cannot conclude that this is indeed the case. "
   ]
  },
  {
   "cell_type": "markdown",
   "metadata": {},
   "source": [
    "### Research Topic & Hypothesis\n",
    "\n",
    "In the week of 6 May 2019, President Donald Trump tweeted 102 words that erased $1.36 trillion from global stocks. Claiming that he would raise tariffs on Chinese goods, Trump caused worries surrounding U.S-China trade relations to reemerge. Volatility roared back with a vengance - the Cboe Volatility Index rose 50% in two days, breaching 20 for the first time since January. Investors were shocked at the sudden turn of events, myself included. \n",
    "\n",
    "This report intends to study the impact that President Trump's tweets have on NASDAQ. Data from the time Trump became President elect to present was collected in the form of CSV files. This data includes President Trump's tweets and NASDAQ data.\n",
    "\n",
    "In order to find the relationship between the 2 variables, sentiment analysis was done on Trump's tweets and plotted against NASDAQ's daily movement.\n",
    "\n",
    "It is hypothesised that President Trump's tweets have a significant impact on NASDAQ. There should be a strong positive correlation between the VADER compound and NASDAQ's daily movement.\n",
    "\n",
    "\n",
    "\n",
    "**Literature / Articles of reference:**\n",
    "- Each Word of Trump's Tariff Tweets Wiped $13 Billion Off Stocks ([https://www.bloomberg.com/news/articles/2019-05-08/each-word-of-trump-s-tariff-tweets-wiped-13-billion-off-stocks](127.0.0.1)) retrieved on 10 June 2019\n",
    "\n",
    "**Datasets used:**\n",
    "- President Trump Tweets since he became President elect ([http://www.trumptwitterarchive.com/archive](127.0.0.1)) retrieved on 10 June 2019\n",
    "\n",
    "- NASDAQ Data ([https://www.nasdaq.com/symbol/csv/interactive-chart](127.0.0.1)) retrieved on 10 June 2019\n",
    "\n"
   ]
  },
  {
   "cell_type": "markdown",
   "metadata": {},
   "source": [
    "### Investigation"
   ]
  },
  {
   "cell_type": "markdown",
   "metadata": {},
   "source": [
    "**Importing libraries**"
   ]
  },
  {
   "cell_type": "code",
   "execution_count": 1045,
   "metadata": {
    "ExecuteTime": {
     "end_time": "2019-04-27T11:23:15.824369Z",
     "start_time": "2019-04-27T11:23:15.478164Z"
    }
   },
   "outputs": [],
   "source": [
    "import pandas as pd\n",
    "import numpy as np\n",
    "import matplotlib.pyplot as plt\n",
    "\n",
    "import nltk\n",
    "from nltk.stem import PorterStemmer\n",
    "from nltk.tokenize import word_tokenize\n",
    "from nltk.corpus import stopwords\n",
    "\n",
    "import re\n",
    "from nltk.sentiment.vader import SentimentIntensityAnalyzer\n",
    "\n",
    "from sklearn.cluster import KMeans\n",
    "\n",
    "import seaborn as sns\n",
    "from sklearn.metrics import confusion_matrix"
   ]
  },
  {
   "cell_type": "markdown",
   "metadata": {},
   "source": [
    "**Import and Cleaning Data**"
   ]
  },
  {
   "cell_type": "markdown",
   "metadata": {},
   "source": [
    "*President Trump Tweets*"
   ]
  },
  {
   "cell_type": "code",
   "execution_count": 1046,
   "metadata": {
    "ExecuteTime": {
     "end_time": "2019-04-27T11:23:15.831939Z",
     "start_time": "2019-04-27T11:23:15.826775Z"
    }
   },
   "outputs": [
    {
     "data": {
      "text/html": [
       "<div>\n",
       "<style scoped>\n",
       "    .dataframe tbody tr th:only-of-type {\n",
       "        vertical-align: middle;\n",
       "    }\n",
       "\n",
       "    .dataframe tbody tr th {\n",
       "        vertical-align: top;\n",
       "    }\n",
       "\n",
       "    .dataframe thead th {\n",
       "        text-align: right;\n",
       "    }\n",
       "</style>\n",
       "<table border=\"1\" class=\"dataframe\">\n",
       "  <thead>\n",
       "    <tr style=\"text-align: right;\">\n",
       "      <th></th>\n",
       "      <th>text</th>\n",
       "      <th>date_created_at</th>\n",
       "      <th>time_created_at</th>\n",
       "      <th>favorite_count</th>\n",
       "      <th>id_str</th>\n",
       "    </tr>\n",
       "  </thead>\n",
       "  <tbody>\n",
       "    <tr>\n",
       "      <th>0</th>\n",
       "      <td>Starting tomorrow it's going to be #AmericaFir...</td>\n",
       "      <td>11/7/16</td>\n",
       "      <td>5:10:00 PM</td>\n",
       "      <td>36087</td>\n",
       "      <td>7.960000e+17</td>\n",
       "    </tr>\n",
       "    <tr>\n",
       "      <th>1</th>\n",
       "      <td>Just landed in North Carolina- heading to the ...</td>\n",
       "      <td>11/7/16</td>\n",
       "      <td>7:30:00 PM</td>\n",
       "      <td>40976</td>\n",
       "      <td>7.960000e+17</td>\n",
       "    </tr>\n",
       "    <tr>\n",
       "      <th>2</th>\n",
       "      <td>On my way! https://t.co/6L2ILD6r8h</td>\n",
       "      <td>11/7/16</td>\n",
       "      <td>7:31:00 PM</td>\n",
       "      <td>26336</td>\n",
       "      <td>7.960000e+17</td>\n",
       "    </tr>\n",
       "    <tr>\n",
       "      <th>3</th>\n",
       "      <td>I love you North Carolina- thank you for your ...</td>\n",
       "      <td>11/7/16</td>\n",
       "      <td>9:03:00 PM</td>\n",
       "      <td>31000</td>\n",
       "      <td>7.960000e+17</td>\n",
       "    </tr>\n",
       "    <tr>\n",
       "      <th>4</th>\n",
       "      <td>'Why Trump' https://t.co/RpwIYB7aOV</td>\n",
       "      <td>11/7/16</td>\n",
       "      <td>9:32:00 PM</td>\n",
       "      <td>18057</td>\n",
       "      <td>7.960000e+17</td>\n",
       "    </tr>\n",
       "  </tbody>\n",
       "</table>\n",
       "</div>"
      ],
      "text/plain": [
       "                                                text date_created_at  \\\n",
       "0  Starting tomorrow it's going to be #AmericaFir...         11/7/16   \n",
       "1  Just landed in North Carolina- heading to the ...         11/7/16   \n",
       "2                 On my way! https://t.co/6L2ILD6r8h         11/7/16   \n",
       "3  I love you North Carolina- thank you for your ...         11/7/16   \n",
       "4                'Why Trump' https://t.co/RpwIYB7aOV         11/7/16   \n",
       "\n",
       "  time_created_at  favorite_count        id_str  \n",
       "0      5:10:00 PM           36087  7.960000e+17  \n",
       "1      7:30:00 PM           40976  7.960000e+17  \n",
       "2      7:31:00 PM           26336  7.960000e+17  \n",
       "3      9:03:00 PM           31000  7.960000e+17  \n",
       "4      9:32:00 PM           18057  7.960000e+17  "
      ]
     },
     "execution_count": 1046,
     "metadata": {},
     "output_type": "execute_result"
    }
   ],
   "source": [
    "tweets_data=pd.read_csv('Trump_Tweets.csv',encoding='ISO-8859-1')\n",
    "tweets_data.head()"
   ]
  },
  {
   "cell_type": "code",
   "execution_count": 1047,
   "metadata": {},
   "outputs": [
    {
     "data": {
      "text/html": [
       "<div>\n",
       "<style scoped>\n",
       "    .dataframe tbody tr th:only-of-type {\n",
       "        vertical-align: middle;\n",
       "    }\n",
       "\n",
       "    .dataframe tbody tr th {\n",
       "        vertical-align: top;\n",
       "    }\n",
       "\n",
       "    .dataframe thead th {\n",
       "        text-align: right;\n",
       "    }\n",
       "</style>\n",
       "<table border=\"1\" class=\"dataframe\">\n",
       "  <thead>\n",
       "    <tr style=\"text-align: right;\">\n",
       "      <th></th>\n",
       "      <th>text</th>\n",
       "      <th>date_created_at</th>\n",
       "      <th>time_created_at</th>\n",
       "      <th>favorite_count</th>\n",
       "      <th>id_str</th>\n",
       "      <th>tweet_cleaned</th>\n",
       "      <th>Date</th>\n",
       "    </tr>\n",
       "  </thead>\n",
       "  <tbody>\n",
       "    <tr>\n",
       "      <th>0</th>\n",
       "      <td>Starting tomorrow it's going to be #AmericaFir...</td>\n",
       "      <td>11/7/16</td>\n",
       "      <td>5:10:00 PM</td>\n",
       "      <td>36087</td>\n",
       "      <td>7.960000e+17</td>\n",
       "      <td>start tomorrow go americafirst thank great mor...</td>\n",
       "      <td>11/7/16</td>\n",
       "    </tr>\n",
       "    <tr>\n",
       "      <th>1</th>\n",
       "      <td>Just landed in North Carolina- heading to the ...</td>\n",
       "      <td>11/7/16</td>\n",
       "      <td>7:30:00 PM</td>\n",
       "      <td>40976</td>\n",
       "      <td>7.960000e+17</td>\n",
       "      <td>land north carolina head js dorton arena see s...</td>\n",
       "      <td>11/7/16</td>\n",
       "    </tr>\n",
       "    <tr>\n",
       "      <th>2</th>\n",
       "      <td>On my way! https://t.co/6L2ILD6r8h</td>\n",
       "      <td>11/7/16</td>\n",
       "      <td>7:31:00 PM</td>\n",
       "      <td>26336</td>\n",
       "      <td>7.960000e+17</td>\n",
       "      <td>way httpstco6l2ild6r8h</td>\n",
       "      <td>11/7/16</td>\n",
       "    </tr>\n",
       "    <tr>\n",
       "      <th>3</th>\n",
       "      <td>I love you North Carolina- thank you for your ...</td>\n",
       "      <td>11/7/16</td>\n",
       "      <td>9:03:00 PM</td>\n",
       "      <td>31000</td>\n",
       "      <td>7.960000e+17</td>\n",
       "      <td>love north carolina thank amaz support get htt...</td>\n",
       "      <td>11/7/16</td>\n",
       "    </tr>\n",
       "    <tr>\n",
       "      <th>4</th>\n",
       "      <td>'Why Trump' https://t.co/RpwIYB7aOV</td>\n",
       "      <td>11/7/16</td>\n",
       "      <td>9:32:00 PM</td>\n",
       "      <td>18057</td>\n",
       "      <td>7.960000e+17</td>\n",
       "      <td>whi trump httpstcorpwiyb7aov</td>\n",
       "      <td>11/7/16</td>\n",
       "    </tr>\n",
       "  </tbody>\n",
       "</table>\n",
       "</div>"
      ],
      "text/plain": [
       "                                                text date_created_at  \\\n",
       "0  Starting tomorrow it's going to be #AmericaFir...         11/7/16   \n",
       "1  Just landed in North Carolina- heading to the ...         11/7/16   \n",
       "2                 On my way! https://t.co/6L2ILD6r8h         11/7/16   \n",
       "3  I love you North Carolina- thank you for your ...         11/7/16   \n",
       "4                'Why Trump' https://t.co/RpwIYB7aOV         11/7/16   \n",
       "\n",
       "  time_created_at  favorite_count        id_str  \\\n",
       "0      5:10:00 PM           36087  7.960000e+17   \n",
       "1      7:30:00 PM           40976  7.960000e+17   \n",
       "2      7:31:00 PM           26336  7.960000e+17   \n",
       "3      9:03:00 PM           31000  7.960000e+17   \n",
       "4      9:32:00 PM           18057  7.960000e+17   \n",
       "\n",
       "                                       tweet_cleaned     Date  \n",
       "0  start tomorrow go americafirst thank great mor...  11/7/16  \n",
       "1  land north carolina head js dorton arena see s...  11/7/16  \n",
       "2                             way httpstco6l2ild6r8h  11/7/16  \n",
       "3  love north carolina thank amaz support get htt...  11/7/16  \n",
       "4                       whi trump httpstcorpwiyb7aov  11/7/16  "
      ]
     },
     "execution_count": 1047,
     "metadata": {},
     "output_type": "execute_result"
    }
   ],
   "source": [
    "def regex(x):\n",
    "    special_chars_p = \"[.®'&$’\\\"\\-()#@!?/:]\"\n",
    "    s1 = re.sub(special_chars_p, '',x)  \n",
    "    return(s1)\n",
    "\n",
    "tweets_data['tweet_c1']=tweets_data['text'].apply(regex)\n",
    "\n",
    "stemmer = PorterStemmer()\n",
    "\n",
    "def stem_sentences(sentence):\n",
    "    tokens = sentence.lower().split()\n",
    "    stemmed_tokens = [stemmer.stem(token) for token in tokens]\n",
    "    return ' '.join(stemmed_tokens)\n",
    "\n",
    "tweets_data['tweet_c2']=tweets_data['tweet_c1'].apply(stem_sentences)\n",
    "\n",
    "tweets_data['tweet_c2'].head()\n",
    "    \n",
    "stop=stopwords.words('english')\n",
    "\n",
    "tweets_data['tweet_c2'].apply(lambda x: [item for item in x if item not in stop])\n",
    "\n",
    "tweets_data['tweet_cleaned'] = tweets_data['tweet_c2'].apply(lambda x: ' '.join([word for word in x.split() if word not in (stop)]))\n",
    "\n",
    "tweets_data.drop(columns=['tweet_c1','tweet_c2'],inplace=True)\n",
    "\n",
    "def regex_date(y):\n",
    "    special_chars_p = \"-\"\n",
    "    s1 = re.sub(special_chars_p, '/',y)  \n",
    "    return(s1)\n",
    "\n",
    "tweets_data['Date']=tweets_data['date_created_at'].apply(regex_date)\n",
    "\n",
    "tweets_data.head()"
   ]
  },
  {
   "cell_type": "markdown",
   "metadata": {},
   "source": [
    "*NASDAQ Data*"
   ]
  },
  {
   "cell_type": "code",
   "execution_count": 1048,
   "metadata": {},
   "outputs": [
    {
     "data": {
      "text/html": [
       "<div>\n",
       "<style scoped>\n",
       "    .dataframe tbody tr th:only-of-type {\n",
       "        vertical-align: middle;\n",
       "    }\n",
       "\n",
       "    .dataframe tbody tr th {\n",
       "        vertical-align: top;\n",
       "    }\n",
       "\n",
       "    .dataframe thead th {\n",
       "        text-align: right;\n",
       "    }\n",
       "</style>\n",
       "<table border=\"1\" class=\"dataframe\">\n",
       "  <thead>\n",
       "    <tr style=\"text-align: right;\">\n",
       "      <th></th>\n",
       "      <th>Date</th>\n",
       "      <th>Open</th>\n",
       "      <th>High</th>\n",
       "      <th>Low</th>\n",
       "      <th>Close</th>\n",
       "      <th>Volume</th>\n",
       "    </tr>\n",
       "  </thead>\n",
       "  <tbody>\n",
       "    <tr>\n",
       "      <th>0</th>\n",
       "      <td>11/8/16</td>\n",
       "      <td>23.84</td>\n",
       "      <td>24.410</td>\n",
       "      <td>23.73</td>\n",
       "      <td>24.26</td>\n",
       "      <td>190988.0</td>\n",
       "    </tr>\n",
       "    <tr>\n",
       "      <th>1</th>\n",
       "      <td>11/9/16</td>\n",
       "      <td>23.95</td>\n",
       "      <td>24.900</td>\n",
       "      <td>23.59</td>\n",
       "      <td>24.89</td>\n",
       "      <td>170208.0</td>\n",
       "    </tr>\n",
       "    <tr>\n",
       "      <th>2</th>\n",
       "      <td>11/10/16</td>\n",
       "      <td>25.00</td>\n",
       "      <td>25.455</td>\n",
       "      <td>24.25</td>\n",
       "      <td>24.38</td>\n",
       "      <td>176457.0</td>\n",
       "    </tr>\n",
       "    <tr>\n",
       "      <th>3</th>\n",
       "      <td>11/11/16</td>\n",
       "      <td>24.39</td>\n",
       "      <td>25.810</td>\n",
       "      <td>24.39</td>\n",
       "      <td>25.54</td>\n",
       "      <td>242595.0</td>\n",
       "    </tr>\n",
       "    <tr>\n",
       "      <th>4</th>\n",
       "      <td>11/14/16</td>\n",
       "      <td>25.91</td>\n",
       "      <td>25.980</td>\n",
       "      <td>25.38</td>\n",
       "      <td>25.40</td>\n",
       "      <td>148580.0</td>\n",
       "    </tr>\n",
       "  </tbody>\n",
       "</table>\n",
       "</div>"
      ],
      "text/plain": [
       "       Date   Open    High    Low  Close    Volume\n",
       "0   11/8/16  23.84  24.410  23.73  24.26  190988.0\n",
       "1   11/9/16  23.95  24.900  23.59  24.89  170208.0\n",
       "2  11/10/16  25.00  25.455  24.25  24.38  176457.0\n",
       "3  11/11/16  24.39  25.810  24.39  25.54  242595.0\n",
       "4  11/14/16  25.91  25.980  25.38  25.40  148580.0"
      ]
     },
     "execution_count": 1048,
     "metadata": {},
     "output_type": "execute_result"
    }
   ],
   "source": [
    "nasdaq=pd.read_csv('NASDAQ_Data.csv')\n",
    "nasdaq.head()"
   ]
  },
  {
   "cell_type": "code",
   "execution_count": 1049,
   "metadata": {},
   "outputs": [],
   "source": [
    "nasdaq['Date']=nasdaq['Date'].apply(regex_date)"
   ]
  },
  {
   "cell_type": "markdown",
   "metadata": {},
   "source": [
    "**Sentiment Analysis of Tweets**"
   ]
  },
  {
   "cell_type": "code",
   "execution_count": 1050,
   "metadata": {},
   "outputs": [
    {
     "data": {
      "text/html": [
       "<div>\n",
       "<style scoped>\n",
       "    .dataframe tbody tr th:only-of-type {\n",
       "        vertical-align: middle;\n",
       "    }\n",
       "\n",
       "    .dataframe tbody tr th {\n",
       "        vertical-align: top;\n",
       "    }\n",
       "\n",
       "    .dataframe thead th {\n",
       "        text-align: right;\n",
       "    }\n",
       "</style>\n",
       "<table border=\"1\" class=\"dataframe\">\n",
       "  <thead>\n",
       "    <tr style=\"text-align: right;\">\n",
       "      <th></th>\n",
       "      <th>text</th>\n",
       "      <th>date_created_at</th>\n",
       "      <th>time_created_at</th>\n",
       "      <th>favorite_count</th>\n",
       "      <th>id_str</th>\n",
       "      <th>tweet_cleaned</th>\n",
       "      <th>Date</th>\n",
       "      <th>VADER_compound</th>\n",
       "    </tr>\n",
       "  </thead>\n",
       "  <tbody>\n",
       "    <tr>\n",
       "      <th>0</th>\n",
       "      <td>Starting tomorrow it's going to be #AmericaFir...</td>\n",
       "      <td>11/7/16</td>\n",
       "      <td>5:10:00 PM</td>\n",
       "      <td>36087</td>\n",
       "      <td>7.960000e+17</td>\n",
       "      <td>start tomorrow go americafirst thank great mor...</td>\n",
       "      <td>11/7/16</td>\n",
       "      <td>0.7650</td>\n",
       "    </tr>\n",
       "    <tr>\n",
       "      <th>1</th>\n",
       "      <td>Just landed in North Carolina- heading to the ...</td>\n",
       "      <td>11/7/16</td>\n",
       "      <td>7:30:00 PM</td>\n",
       "      <td>40976</td>\n",
       "      <td>7.960000e+17</td>\n",
       "      <td>land north carolina head js dorton arena see s...</td>\n",
       "      <td>11/7/16</td>\n",
       "      <td>0.0000</td>\n",
       "    </tr>\n",
       "    <tr>\n",
       "      <th>2</th>\n",
       "      <td>On my way! https://t.co/6L2ILD6r8h</td>\n",
       "      <td>11/7/16</td>\n",
       "      <td>7:31:00 PM</td>\n",
       "      <td>26336</td>\n",
       "      <td>7.960000e+17</td>\n",
       "      <td>way httpstco6l2ild6r8h</td>\n",
       "      <td>11/7/16</td>\n",
       "      <td>0.0000</td>\n",
       "    </tr>\n",
       "    <tr>\n",
       "      <th>3</th>\n",
       "      <td>I love you North Carolina- thank you for your ...</td>\n",
       "      <td>11/7/16</td>\n",
       "      <td>9:03:00 PM</td>\n",
       "      <td>31000</td>\n",
       "      <td>7.960000e+17</td>\n",
       "      <td>love north carolina thank amaz support get htt...</td>\n",
       "      <td>11/7/16</td>\n",
       "      <td>0.8555</td>\n",
       "    </tr>\n",
       "    <tr>\n",
       "      <th>4</th>\n",
       "      <td>'Why Trump' https://t.co/RpwIYB7aOV</td>\n",
       "      <td>11/7/16</td>\n",
       "      <td>9:32:00 PM</td>\n",
       "      <td>18057</td>\n",
       "      <td>7.960000e+17</td>\n",
       "      <td>whi trump httpstcorpwiyb7aov</td>\n",
       "      <td>11/7/16</td>\n",
       "      <td>0.0000</td>\n",
       "    </tr>\n",
       "  </tbody>\n",
       "</table>\n",
       "</div>"
      ],
      "text/plain": [
       "                                                text date_created_at  \\\n",
       "0  Starting tomorrow it's going to be #AmericaFir...         11/7/16   \n",
       "1  Just landed in North Carolina- heading to the ...         11/7/16   \n",
       "2                 On my way! https://t.co/6L2ILD6r8h         11/7/16   \n",
       "3  I love you North Carolina- thank you for your ...         11/7/16   \n",
       "4                'Why Trump' https://t.co/RpwIYB7aOV         11/7/16   \n",
       "\n",
       "  time_created_at  favorite_count        id_str  \\\n",
       "0      5:10:00 PM           36087  7.960000e+17   \n",
       "1      7:30:00 PM           40976  7.960000e+17   \n",
       "2      7:31:00 PM           26336  7.960000e+17   \n",
       "3      9:03:00 PM           31000  7.960000e+17   \n",
       "4      9:32:00 PM           18057  7.960000e+17   \n",
       "\n",
       "                                       tweet_cleaned     Date  VADER_compound  \n",
       "0  start tomorrow go americafirst thank great mor...  11/7/16          0.7650  \n",
       "1  land north carolina head js dorton arena see s...  11/7/16          0.0000  \n",
       "2                             way httpstco6l2ild6r8h  11/7/16          0.0000  \n",
       "3  love north carolina thank amaz support get htt...  11/7/16          0.8555  \n",
       "4                       whi trump httpstcorpwiyb7aov  11/7/16          0.0000  "
      ]
     },
     "execution_count": 1050,
     "metadata": {},
     "output_type": "execute_result"
    }
   ],
   "source": [
    "sid = SentimentIntensityAnalyzer()\n",
    "\n",
    "def vader(sentence):\n",
    "    vaded=sid.polarity_scores(sentence)\n",
    "    return vaded['compound']\n",
    "\n",
    "tweets_data['VADER_compound']=tweets_data['tweet_cleaned'].apply(vader)\n",
    "\n",
    "tweets_data.head()"
   ]
  },
  {
   "cell_type": "markdown",
   "metadata": {},
   "source": [
    "**Calculating daily NASDAQ Movement**"
   ]
  },
  {
   "cell_type": "code",
   "execution_count": 1051,
   "metadata": {},
   "outputs": [
    {
     "data": {
      "text/html": [
       "<div>\n",
       "<style scoped>\n",
       "    .dataframe tbody tr th:only-of-type {\n",
       "        vertical-align: middle;\n",
       "    }\n",
       "\n",
       "    .dataframe tbody tr th {\n",
       "        vertical-align: top;\n",
       "    }\n",
       "\n",
       "    .dataframe thead th {\n",
       "        text-align: right;\n",
       "    }\n",
       "</style>\n",
       "<table border=\"1\" class=\"dataframe\">\n",
       "  <thead>\n",
       "    <tr style=\"text-align: right;\">\n",
       "      <th></th>\n",
       "      <th>Date</th>\n",
       "      <th>Open</th>\n",
       "      <th>High</th>\n",
       "      <th>Low</th>\n",
       "      <th>Close</th>\n",
       "      <th>Volume</th>\n",
       "      <th>Movement</th>\n",
       "    </tr>\n",
       "  </thead>\n",
       "  <tbody>\n",
       "    <tr>\n",
       "      <th>0</th>\n",
       "      <td>11/8/16</td>\n",
       "      <td>23.84</td>\n",
       "      <td>24.410</td>\n",
       "      <td>23.73</td>\n",
       "      <td>24.26</td>\n",
       "      <td>190988.0</td>\n",
       "      <td>0.42</td>\n",
       "    </tr>\n",
       "    <tr>\n",
       "      <th>1</th>\n",
       "      <td>11/9/16</td>\n",
       "      <td>23.95</td>\n",
       "      <td>24.900</td>\n",
       "      <td>23.59</td>\n",
       "      <td>24.89</td>\n",
       "      <td>170208.0</td>\n",
       "      <td>0.94</td>\n",
       "    </tr>\n",
       "    <tr>\n",
       "      <th>2</th>\n",
       "      <td>11/10/16</td>\n",
       "      <td>25.00</td>\n",
       "      <td>25.455</td>\n",
       "      <td>24.25</td>\n",
       "      <td>24.38</td>\n",
       "      <td>176457.0</td>\n",
       "      <td>-0.62</td>\n",
       "    </tr>\n",
       "  </tbody>\n",
       "</table>\n",
       "</div>"
      ],
      "text/plain": [
       "       Date   Open    High    Low  Close    Volume  Movement\n",
       "0   11/8/16  23.84  24.410  23.73  24.26  190988.0      0.42\n",
       "1   11/9/16  23.95  24.900  23.59  24.89  170208.0      0.94\n",
       "2  11/10/16  25.00  25.455  24.25  24.38  176457.0     -0.62"
      ]
     },
     "execution_count": 1051,
     "metadata": {},
     "output_type": "execute_result"
    }
   ],
   "source": [
    "nasdaq['Movement']=nasdaq['Close']-nasdaq['Open']\n",
    "\n",
    "nasdaq.head(3)"
   ]
  },
  {
   "cell_type": "markdown",
   "metadata": {},
   "source": [
    "**Data Filtration**"
   ]
  },
  {
   "cell_type": "markdown",
   "metadata": {},
   "source": [
    "Filtering for tweets that may affect NASDAQ "
   ]
  },
  {
   "cell_type": "code",
   "execution_count": 1052,
   "metadata": {},
   "outputs": [
    {
     "data": {
      "text/html": [
       "<div>\n",
       "<style scoped>\n",
       "    .dataframe tbody tr th:only-of-type {\n",
       "        vertical-align: middle;\n",
       "    }\n",
       "\n",
       "    .dataframe tbody tr th {\n",
       "        vertical-align: top;\n",
       "    }\n",
       "\n",
       "    .dataframe thead th {\n",
       "        text-align: right;\n",
       "    }\n",
       "</style>\n",
       "<table border=\"1\" class=\"dataframe\">\n",
       "  <thead>\n",
       "    <tr style=\"text-align: right;\">\n",
       "      <th></th>\n",
       "      <th>date_created_at</th>\n",
       "      <th>tweet_cleaned</th>\n",
       "      <th>VADER_compound</th>\n",
       "      <th>Movement</th>\n",
       "    </tr>\n",
       "  </thead>\n",
       "  <tbody>\n",
       "    <tr>\n",
       "      <th>815</th>\n",
       "      <td>6/5/19</td>\n",
       "      <td>ñhous republican support presid tariff mexico ...</td>\n",
       "      <td>0.8934</td>\n",
       "      <td>-0.20</td>\n",
       "    </tr>\n",
       "    <tr>\n",
       "      <th>816</th>\n",
       "      <td>6/5/19</td>\n",
       "      <td>talk mexico resum tomorrow understand agreemen...</td>\n",
       "      <td>0.5574</td>\n",
       "      <td>-0.20</td>\n",
       "    </tr>\n",
       "    <tr>\n",
       "      <th>817</th>\n",
       "      <td>6/6/19</td>\n",
       "      <td>ñthe presid ha receiv glow review british medi...</td>\n",
       "      <td>-0.5106</td>\n",
       "      <td>-0.05</td>\n",
       "    </tr>\n",
       "    <tr>\n",
       "      <th>818</th>\n",
       "      <td>6/7/19</td>\n",
       "      <td>china subsid product order continu sold usa ma...</td>\n",
       "      <td>-0.3818</td>\n",
       "      <td>-0.07</td>\n",
       "    </tr>\n",
       "    <tr>\n",
       "      <th>819</th>\n",
       "      <td>6/7/19</td>\n",
       "      <td>abl make deal mexico amp; good chanc begin pur...</td>\n",
       "      <td>0.3612</td>\n",
       "      <td>-0.07</td>\n",
       "    </tr>\n",
       "  </tbody>\n",
       "</table>\n",
       "</div>"
      ],
      "text/plain": [
       "    date_created_at                                      tweet_cleaned  \\\n",
       "815          6/5/19  ñhous republican support presid tariff mexico ...   \n",
       "816          6/5/19  talk mexico resum tomorrow understand agreemen...   \n",
       "817          6/6/19  ñthe presid ha receiv glow review british medi...   \n",
       "818          6/7/19  china subsid product order continu sold usa ma...   \n",
       "819          6/7/19  abl make deal mexico amp; good chanc begin pur...   \n",
       "\n",
       "     VADER_compound  Movement  \n",
       "815          0.8934     -0.20  \n",
       "816          0.5574     -0.20  \n",
       "817         -0.5106     -0.05  \n",
       "818         -0.3818     -0.07  \n",
       "819          0.3612     -0.07  "
      ]
     },
     "execution_count": 1052,
     "metadata": {},
     "output_type": "execute_result"
    }
   ],
   "source": [
    "keywords='trade|market|stock|tariff|economy|nasdaq|dia|bluechip|cryptocurrency|dow jones|bear run|bull run|economic|finance|GDP|growth|inflation|industry|poverty|recession|sector|slump|supply|demand|wealth'\n",
    "\n",
    "tweets_data=tweets_data.copy()\n",
    "\n",
    "tweets_data.reset_index(drop=True)\n",
    "\n",
    "tweets_data=tweets_data[(tweets_data['tweet_cleaned'].str.contains(keywords))\n",
    "                       &(~(tweets_data['VADER_compound']==0))]\n",
    "\n",
    "df=pd.merge(tweets_data,nasdaq,on='Date',how='outer')\n",
    "\n",
    "df.dropna(axis=0,inplace=True)\n",
    "\n",
    "df.drop(columns=['text','time_created_at','favorite_count','id_str','High','Low','Open','Close','Volume','Date'],inplace=True)\n",
    "\n",
    "df.tail()"
   ]
  },
  {
   "cell_type": "markdown",
   "metadata": {},
   "source": [
    "**Visualisation of NASDAQ Closing Results against VADER Compound**"
   ]
  },
  {
   "cell_type": "code",
   "execution_count": 1053,
   "metadata": {},
   "outputs": [
    {
     "data": {
      "text/plain": [
       "Text(0, 0.5, 'Movement')"
      ]
     },
     "execution_count": 1053,
     "metadata": {},
     "output_type": "execute_result"
    },
    {
     "data": {
      "image/png": "[encoded data removed]",
      "text/plain": [
       "<Figure size 1152x576 with 1 Axes>"
      ]
     },
     "metadata": {
      "needs_background": "light"
     },
     "output_type": "display_data"
    }
   ],
   "source": [
    "fig, ax1 = plt.subplots()\n",
    "df.plot(kind='scatter', x='VADER_compound', y='Movement', ax=ax1, figsize=(16,8))\n",
    "\n",
    "\n",
    "ax1.set_title('NASDAQ Movement against VADER Compound',fontsize=16)\n",
    "\n",
    "plt.xlabel(\"VADER Compound\")\n",
    "\n",
    "#plt.yticks(range(95,100,1))\n",
    "plt.ylabel(\"Movement\", fontsize=12)"
   ]
  },
  {
   "cell_type": "markdown",
   "metadata": {},
   "source": [
    "From the scatter plot, the hypothesis - there should be a strong positive correlation between the VADER compound and NASDAQ's daily movement - has been rejected. The scatter plot was too random to draw any insightful information.\n",
    "\n",
    "However, it dawned on me that clustering may be able to provide new insights. "
   ]
  },
  {
   "cell_type": "markdown",
   "metadata": {},
   "source": [
    "**Further Analysis by Clustering**"
   ]
  },
  {
   "cell_type": "code",
   "execution_count": 1067,
   "metadata": {},
   "outputs": [
    {
     "name": "stdout",
     "output_type": "stream",
     "text": [
      "KMeans(algorithm='auto', copy_x=True, init='k-means++', max_iter=300,\n",
      "    n_clusters=4, n_init=10, n_jobs=None, precompute_distances='auto',\n",
      "    random_state=0, tol=0.0001, verbose=0)\n",
      "[2 3 3 3 3 3 1 2 1 2 3 1 2 2 3 2 1 1 3 2 2 2 3 1 3 2 2 2 2 2 2 2 3 2 2 2 2\n",
      " 2 2 3 2 3 3 1 1 1 1 1 1 1 3 2 1 1 1 1 2 3 1 2 2 3 3 2 3 1 2 2 1 3 2 3 3 3\n",
      " 3 1 1 3 2 2 3 3 3 1 3 2 2 2 1 2 3 3 1 2 3 2 1 1 2 3 2 3 3 2 1 3 1 2 2 3 2\n",
      " 2 2 1 1 2 2 1 1 2 2 2 1 3 2 2 1 2 2 3 3 3 1 3 1 2 3 3 1 2 1 1 2 3 2 1 3 3\n",
      " 3 1 3 1 2 3 3 3 1 1 1 1 1 1 2 0 3 3 3 2 3 3 3 3 2 3 3 2 3 2 3 2 1 3 1 2 1\n",
      " 2 3 3 3 3 1 2 3 1 3 1 2 3 3 3 3 3 1 3 1 1 2 2 3 3 1 3 3 3 1 3 3 1 2 1 1 1\n",
      " 2 3 3 3 3 3 2 3 3 3 3 3 3 3 3 3 2 3 3 3 2 3 3 3 3 2 3 1 2 1 2 3 3 3 3 1 2\n",
      " 2 1]\n",
      "[[ 0.8225     -3.81      ]\n",
      " [ 0.33648235 -0.23029412]\n",
      " [-0.47904699  0.0173494 ]\n",
      " [ 0.65706697  0.19944954]]\n"
     ]
    },
    {
     "data": {
      "text/html": [
       "<div>\n",
       "<style scoped>\n",
       "    .dataframe tbody tr th:only-of-type {\n",
       "        vertical-align: middle;\n",
       "    }\n",
       "\n",
       "    .dataframe tbody tr th {\n",
       "        vertical-align: top;\n",
       "    }\n",
       "\n",
       "    .dataframe thead th {\n",
       "        text-align: right;\n",
       "    }\n",
       "</style>\n",
       "<table border=\"1\" class=\"dataframe\">\n",
       "  <thead>\n",
       "    <tr style=\"text-align: right;\">\n",
       "      <th></th>\n",
       "      <th>VADER_compound</th>\n",
       "      <th>Movement</th>\n",
       "      <th>label</th>\n",
       "    </tr>\n",
       "  </thead>\n",
       "  <tbody>\n",
       "    <tr>\n",
       "      <th>0</th>\n",
       "      <td>0.822500</td>\n",
       "      <td>-3.810000</td>\n",
       "      <td>0</td>\n",
       "    </tr>\n",
       "    <tr>\n",
       "      <th>1</th>\n",
       "      <td>0.336482</td>\n",
       "      <td>-0.230294</td>\n",
       "      <td>1</td>\n",
       "    </tr>\n",
       "    <tr>\n",
       "      <th>2</th>\n",
       "      <td>-0.479047</td>\n",
       "      <td>0.017349</td>\n",
       "      <td>2</td>\n",
       "    </tr>\n",
       "    <tr>\n",
       "      <th>3</th>\n",
       "      <td>0.657067</td>\n",
       "      <td>0.199450</td>\n",
       "      <td>3</td>\n",
       "    </tr>\n",
       "  </tbody>\n",
       "</table>\n",
       "</div>"
      ],
      "text/plain": [
       "   VADER_compound  Movement  label\n",
       "0        0.822500 -3.810000      0\n",
       "1        0.336482 -0.230294      1\n",
       "2       -0.479047  0.017349      2\n",
       "3        0.657067  0.199450      3"
      ]
     },
     "execution_count": 1067,
     "metadata": {},
     "output_type": "execute_result"
    }
   ],
   "source": [
    "f=['VADER_compound','Movement']\n",
    "\n",
    "X = df[f]\n",
    "\n",
    "model = KMeans(n_clusters=4, random_state=0)\n",
    "\n",
    "kmeans = model.fit(X)\n",
    "\n",
    "print(kmeans)\n",
    "\n",
    "print(kmeans.labels_)\n",
    "\n",
    "X_results=X.copy()\n",
    "\n",
    "X_results['label'] = kmeans.labels_\n",
    "\n",
    "X_results.head()\n",
    "\n",
    "new_df = df.copy().merge(X_results, on = ['VADER_compound', 'Movement'])\n",
    "\n",
    "new_df\n",
    "\n",
    "new_df[new_df['label'] == 0].head(1)\n",
    "new_df[new_df['label'] == 1].head(1)\n",
    "new_df[new_df['label'] == 2].head(1)\n",
    "new_df[new_df['label'] == 3].head(1)\n",
    "\n",
    "print(kmeans.cluster_centers_)\n",
    "\n",
    "centroid_df_cols = ['VADER_compound', 'Movement']\n",
    "\n",
    "centroids_df = pd.DataFrame(kmeans.cluster_centers_, columns=centroid_df_cols)\n",
    "\n",
    "centroids_df['label'] = centroids_df.index\n",
    "\n",
    "centroids_df"
   ]
  },
  {
   "cell_type": "markdown",
   "metadata": {},
   "source": [
    "*Comparative Visualisation*"
   ]
  },
  {
   "cell_type": "code",
   "execution_count": 1068,
   "metadata": {},
   "outputs": [
    {
     "data": {
      "image/png": "[encoded data removed]",
      "text/plain": [
       "<Figure size 1152x864 with 3 Axes>"
      ]
     },
     "metadata": {
      "needs_background": "light"
     },
     "output_type": "display_data"
    }
   ],
   "source": [
    "fig = plt.figure(figsize=(16, 12))\n",
    "ax1 = fig.add_subplot(221)\n",
    "\n",
    "df.plot(kind='scatter', x='VADER_compound',y='Movement', ax=ax1)\n",
    "ax1.set_title('Effect of VADER sentiment on NASDAQ movement')\n",
    "ax1.set_xlabel(\"VADER Compound\")\n",
    "\n",
    "ax2 = fig.add_subplot(222)\n",
    "\n",
    "X_results.plot(kind='scatter', x='VADER_compound',y='Movement', \n",
    "               c='label', colormap='YlGnBu', ax=ax2,marker=\"o\", s=80)\n",
    "\n",
    "centroids_df.plot(kind='scatter', x='VADER_compound',y='Movement', color='red', ax=ax2,\n",
    "                marker=\"X\", s=80,)\n",
    "\n",
    "ax2.set_title('After k-means clustering')\n",
    "ax2.set_xlabel(\"VADER Compound\")\n",
    "\n",
    "plt.xticks(rotation=90)\n",
    "plt.show()"
   ]
  },
  {
   "cell_type": "markdown",
   "metadata": {},
   "source": [
    "Unfortunately, performing clustering did not provide insightful data. Therefore, I decided to plot the number of incidences of different types of correlations to see if there was a particular correlation that stood out."
   ]
  },
  {
   "cell_type": "markdown",
   "metadata": {},
   "source": [
    "**Bar Charting**"
   ]
  },
  {
   "cell_type": "code",
   "execution_count": 1056,
   "metadata": {},
   "outputs": [
    {
     "name": "stdout",
     "output_type": "stream",
     "text": [
      "47\n",
      "35\n",
      "88\n",
      "77\n"
     ]
    },
    {
     "data": {
      "text/html": [
       "<div>\n",
       "<style scoped>\n",
       "    .dataframe tbody tr th:only-of-type {\n",
       "        vertical-align: middle;\n",
       "    }\n",
       "\n",
       "    .dataframe tbody tr th {\n",
       "        vertical-align: top;\n",
       "    }\n",
       "\n",
       "    .dataframe thead th {\n",
       "        text-align: right;\n",
       "    }\n",
       "</style>\n",
       "<table border=\"1\" class=\"dataframe\">\n",
       "  <thead>\n",
       "    <tr style=\"text-align: right;\">\n",
       "      <th></th>\n",
       "      <th>A</th>\n",
       "      <th>B</th>\n",
       "    </tr>\n",
       "  </thead>\n",
       "  <tbody>\n",
       "    <tr>\n",
       "      <th>0</th>\n",
       "      <td>Negative sentiment=negative movement</td>\n",
       "      <td>47</td>\n",
       "    </tr>\n",
       "    <tr>\n",
       "      <th>1</th>\n",
       "      <td>Negative sentiment=positive movement</td>\n",
       "      <td>35</td>\n",
       "    </tr>\n",
       "    <tr>\n",
       "      <th>2</th>\n",
       "      <td>Positive sentiment=positive movement</td>\n",
       "      <td>88</td>\n",
       "    </tr>\n",
       "    <tr>\n",
       "      <th>3</th>\n",
       "      <td>Positive sentiment=negative movement</td>\n",
       "      <td>77</td>\n",
       "    </tr>\n",
       "  </tbody>\n",
       "</table>\n",
       "</div>"
      ],
      "text/plain": [
       "                                      A   B\n",
       "0  Negative sentiment=negative movement  47\n",
       "1  Negative sentiment=positive movement  35\n",
       "2  Positive sentiment=positive movement  88\n",
       "3  Positive sentiment=negative movement  77"
      ]
     },
     "execution_count": 1056,
     "metadata": {},
     "output_type": "execute_result"
    }
   ],
   "source": [
    "Negative_sentiment_negative_movement=0\n",
    "Negative_sentiment_positive_movement=0\n",
    "Positive_sentiment_positive_movement=0\n",
    "Positive_sentiment_negative_movement=0\n",
    "\n",
    "for i in range(len(df)): \n",
    "    \n",
    "    if df.iloc[i]['VADER_compound']<0:\n",
    "        if df.iloc[i]['Movement']<0:\n",
    "            Negative_sentiment_negative_movement+=1\n",
    "            \n",
    "    if df.iloc[i]['VADER_compound']<0:\n",
    "        if df.iloc[i]['Movement']>0:\n",
    "            Negative_sentiment_positive_movement+=1\n",
    "            \n",
    "    if df.iloc[i]['VADER_compound']>0:\n",
    "        if df.iloc[i]['Movement']>0:\n",
    "            Positive_sentiment_positive_movement+=1\n",
    "            \n",
    "    if df.iloc[i]['VADER_compound']>0:\n",
    "        if df.iloc[i]['Movement']<0:\n",
    "            Positive_sentiment_negative_movement+=1\n",
    "    \n",
    "print(Negative_sentiment_negative_movement)\n",
    "print(Negative_sentiment_positive_movement)\n",
    "print(Positive_sentiment_positive_movement)\n",
    "print(Positive_sentiment_negative_movement)\n",
    "\n",
    "categories = pd.DataFrame([['Negative sentiment=negative movement',Negative_sentiment_negative_movement], \n",
    "                           ['Negative sentiment=positive movement', Negative_sentiment_positive_movement],\n",
    "                          ['Positive sentiment=positive movement',Positive_sentiment_positive_movement], \n",
    "                          ['Positive sentiment=negative movement',Positive_sentiment_negative_movement]],\n",
    "                          columns=list('AB'))\n",
    "\n",
    "categories"
   ]
  },
  {
   "cell_type": "code",
   "execution_count": 1057,
   "metadata": {},
   "outputs": [
    {
     "data": {
      "text/plain": [
       "Text(0.5, 1.0, 'Correlation')"
      ]
     },
     "execution_count": 1057,
     "metadata": {},
     "output_type": "execute_result"
    },
    {
     "data": {
      "image/png": "[encoded data removed]",
      "text/plain": [
       "<Figure size 1152x720 with 1 Axes>"
      ]
     },
     "metadata": {
      "needs_background": "light"
     },
     "output_type": "display_data"
    }
   ],
   "source": [
    "fig = plt.figure(figsize=(16, 10))\n",
    "ax = fig.add_subplot(221)\n",
    "\n",
    "categories.plot(kind='bar', x='A', y='B', ax=ax, color='skyblue',label='number of incidences')\n",
    "\n",
    "ax.set_ylabel('Number of Incidences')\n",
    "ax.set_xlabel('Categories of Correlation')\n",
    "ax.set_title('Correlation')"
   ]
  },
  {
   "cell_type": "code",
   "execution_count": 1058,
   "metadata": {},
   "outputs": [
    {
     "name": "stdout",
     "output_type": "stream",
     "text": [
      "54.655870445344135\n",
      "45.34412955465587\n"
     ]
    }
   ],
   "source": [
    "positive_correlation_count=categories['B'].iloc[0]+categories['B'].iloc[2]\n",
    "\n",
    "negative_correlation_count=categories['B'].iloc[1]+categories['B'].iloc[3]\n",
    "\n",
    "total_count=categories['B'].iloc[0]+categories['B'].iloc[2]+categories['B'].iloc[1]+categories['B'].iloc[3]\n",
    "\n",
    "proportion_positive=positive_correlation_count/total_count*100\n",
    "\n",
    "proportion_negative=negative_correlation_count/total_count*100\n",
    "\n",
    "print(proportion_positive)\n",
    "print(proportion_negative)"
   ]
  },
  {
   "cell_type": "markdown",
   "metadata": {},
   "source": [
    "### Insights and Evaluation \n",
    "\n",
    "- From the scatter plots and clustering results, it is evident that there is no clear correlation between the VADER compound and NASDAQ movement.\n",
    "\n",
    "\n",
    "- However, 54.7% of the results show a positive correlation between the 2 variables, therefore suggesting that there is a correlation between the 2, albeit weak. \n",
    "\n",
    "\n",
    "- Since there the results of the investigation are not significant, the hypothesis has been rejected. \n",
    "\n",
    "\n",
    "**Plausible Improvements to the Investigation**\n",
    "\n",
    "- President Trump's tweets were filtered with a limtied set of keywords. Having a better filtration method may make the results of the investigation more insightful and reliable.\n",
    "\n",
    "**Plausible Extensions to the Investigation**\n",
    "\n",
    "- There are various factors that affect NASDAQ movement. It would be interesting if this investigation could consider more dimensions. \n",
    "\n",
    "\n",
    "- Considering the US's international relations, tweets mentioning different countries/topics may have various degrees of impact on NASDAQ movement. This extension would enhance the accuracy of the investigation. \n",
    "\n",
    "\n",
    "- Predicting NASDAQ's movements would also be informative for traders."
   ]
  },
  {
   "cell_type": "code",
   "execution_count": null,
   "metadata": {},
   "outputs": [],
   "source": []
  }
 ],
 "metadata": {
  "kernelspec": {
   "display_name": "Python 3",
   "language": "python",
   "name": "python3"
  },
  "language_info": {
   "codemirror_mode": {
    "name": "ipython",
    "version": 3
   },
   "file_extension": ".py",
   "mimetype": "text/x-python",
   "name": "python",
   "nbconvert_exporter": "python",
   "pygments_lexer": "ipython3",
   "version": "3.7.1"
  }
 },
 "nbformat": 4,
 "nbformat_minor": 2
}
